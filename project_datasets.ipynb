{
  "nbformat": 4,
  "nbformat_minor": 0,
  "metadata": {
    "colab": {
      "provenance": [],
      "authorship_tag": "ABX9TyMOSVnpGZj2BKp3pLZ313DD",
      "include_colab_link": true
    },
    "kernelspec": {
      "name": "python3",
      "display_name": "Python 3"
    },
    "language_info": {
      "name": "python"
    }
  },
  "cells": [
    {
      "cell_type": "markdown",
      "metadata": {
        "id": "view-in-github",
        "colab_type": "text"
      },
      "source": [
        "<a href=\"https://colab.research.google.com/github/divyaa003/Project/blob/main/project_datasets.ipynb\" target=\"_parent\"><img src=\"https://colab.research.google.com/assets/colab-badge.svg\" alt=\"Open In Colab\"/></a>"
      ]
    },
    {
      "cell_type": "code",
      "source": [
        "from bing_image_downloader import downloader\n",
        "downloader.download(\"mumoorthi vinayagar temple kumbakonam\",limit=10,output_dir=\"kumbakonam\")"
      ],
      "metadata": {
        "colab": {
          "base_uri": "https://localhost:8080/"
        },
        "outputId": "d8740724-4bbf-4e34-934c-b642e5d90f4f",
        "id": "ZjyFtVMXik9Z"
      },
      "execution_count": null,
      "outputs": [
        {
          "output_type": "stream",
          "name": "stdout",
          "text": [
            "[%] Downloading Images to /content/kumbakonam/mumoorthi vinayagar temple kumbakonam\n",
            "\n",
            "\n",
            "[!!]Indexing page: 1\n",
            "\n",
            "[%] Indexed 10 Images on Page 1.\n",
            "\n",
            "===============================================\n",
            "\n",
            "[%] Downloading Image #1 from https://3.bp.blogspot.com/-K8s0l3pLnKk/XA_gYBrcN7I/AAAAAAABUZQ/Wbhro3QyVK8IBzNXxM-XMrXfvtJzwrY9wCLcBGAs/s1600/IMG_0367.JPG\n",
            "[%] File Downloaded !\n",
            "\n",
            "[%] Downloading Image #2 from http://1.bp.blogspot.com/-lSY31VyolO0/VoV0DgSeGuI/AAAAAAAAXGo/wfWUjHLND1Q/s1600/T210_Sri-Baanapureeshwarar_temple2.jpg\n",
            "[%] File Downloaded !\n",
            "\n",
            "[%] Downloading Image #3 from https://1.bp.blogspot.com/-_VgdadvGZB0/XTVwLlav-sI/AAAAAAAABcs/uoXHP3hsh_IKSUnRMvv22rDODJxWlMrkwCLcBGAs/s1600/IMG_20190722_133836.jpg\n",
            "[%] File Downloaded !\n",
            "\n",
            "[%] Downloading Image #4 from https://tripnetra.com/blog/wp-content/uploads/2018/04/Mutharamman-Temple-525x543.jpg\n",
            "[%] File Downloaded !\n",
            "\n",
            "[%] Downloading Image #5 from https://www.esamskriti.com/photograph/3_5731.jpg?202171235555\n",
            "[%] File Downloaded !\n",
            "\n",
            "[%] Downloading Image #6 from https://templeconnect.com/wp-content/uploads/2022/03/Suriyanar-Kovil-Kumbakonam-Tamil-Nadu-Navagraha.png\n",
            "[%] File Downloaded !\n",
            "\n",
            "[%] Downloading Image #7 from https://lh5.googleusercontent.com/p/AF1QipOIsA5MGnzPm5LXpojSbQa1b2Kcs0VF6-MgHDGk=w1080-k-no\n",
            "[%] File Downloaded !\n",
            "\n",
            "[%] Downloading Image #8 from https://www.holidify.com/images/cmsuploads/compressed/shutterstock_1122267461_20200224115001.jpg\n",
            "[%] File Downloaded !\n",
            "\n",
            "[%] Downloading Image #9 from http://casualwalker.com/wp-content/uploads/2021/07/Valividu_Murugan_temple_Ramanathapuram_00001.jpg\n",
            "[%] File Downloaded !\n",
            "\n",
            "[%] Downloading Image #10 from https://1.bp.blogspot.com/-KPZWvUrjeJY/YImO8aRyEOI/AAAAAAAAGXE/ULEC88azig8Zao0QzzJKdQ21uInaBucJACLcBGAsYHQ/s1167/Mundhi%2BVinayagar%2BTemple%2BPuliakulam%2BLord%2BGanesha%2BTemple%2BCoimbatore.png\n",
            "[%] File Downloaded !\n",
            "\n",
            "\n",
            "\n",
            "[%] Done. Downloaded 10 images.\n"
          ]
        }
      ]
    },
    {
      "cell_type": "code",
      "execution_count": 7,
      "metadata": {
        "colab": {
          "base_uri": "https://localhost:8080/"
        },
        "id": "2hjKlWiPi0hH",
        "outputId": "2dfc882b-ce86-472c-c0b4-27d24044d9ca"
      },
      "outputs": [
        {
          "output_type": "stream",
          "name": "stdout",
          "text": [
            "Collecting bing_image_downloader\n",
            "  Downloading bing_image_downloader-1.1.2-py3-none-any.whl (5.9 kB)\n",
            "Installing collected packages: bing_image_downloader\n",
            "Successfully installed bing_image_downloader-1.1.2\n"
          ]
        }
      ],
      "source": [
        "pip install bing_image_downloader"
      ]
    },
    {
      "cell_type": "code",
      "source": [
        "mkdir kumbakonam"
      ],
      "metadata": {
        "id": "ZG2llOrLjIN4"
      },
      "execution_count": null,
      "outputs": []
    },
    {
      "cell_type": "code",
      "source": [
        "from bing_image_downloader import downloader\n",
        "downloader.download(\"kumbakonam temples\",limit=10,output_dir=\"kumbakonam\")"
      ],
      "metadata": {
        "colab": {
          "base_uri": "https://localhost:8080/"
        },
        "id": "ztJqfTpQjOku",
        "outputId": "44761562-0999-48ba-81c7-b8d33e1220f8"
      },
      "execution_count": 8,
      "outputs": [
        {
          "output_type": "stream",
          "name": "stdout",
          "text": [
            "[%] Downloading Images to /content/kumbakonam/kumbakonam temples\n",
            "\n",
            "\n",
            "[!!]Indexing page: 1\n",
            "\n",
            "[%] Indexed 10 Images on Page 1.\n",
            "\n",
            "===============================================\n",
            "\n",
            "[%] Downloading Image #1 from https://4.bp.blogspot.com/-IHfjONtWRCg/XA_UsJAWEsI/AAAAAAABUVw/rvGeNrOzbzAZri5B4VIpKYmi06kYfb_QQCLcBGAs/s1600/IMG_0371.JPG\n",
            "[%] File Downloaded !\n",
            "\n",
            "[%] Downloading Image #2 from https://www.holidify.com/images/cmsuploads/compressed/Gopuras_in_Kumbakonam_-_India_20180412112427.JPG\n",
            "[%] File Downloaded !\n",
            "\n",
            "[%] Downloading Image #3 from http://4.bp.blogspot.com/-f8AQnVCP0DM/VLILpQFlohI/AAAAAAAAGS8/Sm-wTEM_HFM/s1600/Kumbakonam%2BChakrapani%2BTemple2.jpg\n",
            "[%] File Downloaded !\n",
            "\n",
            "[%] Downloading Image #4 from https://www.trawell.in/admin/images/upload/868291519Kumbakonam_Sarangapani_Temple_Main.jpg\n",
            "[%] File Downloaded !\n",
            "\n",
            "[%] Downloading Image #5 from https://www.pilgrimagetour.in/blog/wp-content/uploads/2018/06/Kumbakonam-Tempal.jpg\n",
            "[%] File Downloaded !\n",
            "\n",
            "[%] Downloading Image #6 from https://3.bp.blogspot.com/-XX01KOyhulM/VLILGF6oyWI/AAAAAAAAGSM/7ur2S2-VMSE/s1600/Kumbakonam%2BAdi%2BKumbeswarar%2BTemple4.jpg\n",
            "[%] File Downloaded !\n",
            "\n",
            "[%] Downloading Image #7 from https://2.bp.blogspot.com/-dVgX5G4Lcmo/XDnumX3DSwI/AAAAAAAASkk/K7pv958IUF0ovjHwC2cmUdZwc0-z_j-DwCKgBGAs/s1600/Sarangapani%2BTemple%2BKumbakonam.jpg\n",
            "[%] File Downloaded !\n",
            "\n",
            "[%] Downloading Image #8 from https://3.bp.blogspot.com/-K8s0l3pLnKk/XA_gYBrcN7I/AAAAAAABUZQ/Wbhro3QyVK8IBzNXxM-XMrXfvtJzwrY9wCLcBGAs/s1600/IMG_0367.JPG\n",
            "[%] File Downloaded !\n",
            "\n",
            "[%] Downloading Image #9 from http://3.bp.blogspot.com/-XVHcRBUKDbY/VLIMxG_D2cI/AAAAAAAAGUE/rUQjMM4UpHk/s1600/Kumbakonam%2BNageswaraswamy%2BTemple1.jpg\n",
            "[%] File Downloaded !\n",
            "\n",
            "[%] Downloading Image #10 from http://4.bp.blogspot.com/-Ues2QPrKB2c/VLIMldz4DSI/AAAAAAAAGT0/jilug3Ctyps/s1600/Kumbakonam%2BNageswaraswamy%2BTemple%2BInside%2Bview.jpg\n",
            "[%] File Downloaded !\n",
            "\n",
            "\n",
            "\n",
            "[%] Done. Downloaded 10 images.\n"
          ]
        }
      ]
    },
    {
      "cell_type": "code",
      "source": [
        "from bing_image_downloader import downloader\n",
        "downloader.download(\"kumbakonam ramanujam house\",limit=10,output_dir=\"kumbakonam\")"
      ],
      "metadata": {
        "colab": {
          "base_uri": "https://localhost:8080/"
        },
        "id": "-B8qZUy3kwqA",
        "outputId": "c5ebc0dd-f159-4d78-c94c-ba0617ee979c"
      },
      "execution_count": 9,
      "outputs": [
        {
          "output_type": "stream",
          "name": "stdout",
          "text": [
            "[%] Downloading Images to /content/kumbakonam/kumbakonam ramanujam house\n",
            "\n",
            "\n",
            "[!!]Indexing page: 1\n",
            "\n",
            "[%] Indexed 10 Images on Page 1.\n",
            "\n",
            "===============================================\n",
            "\n",
            "[%] Downloading Image #1 from https://media-cdn.tripadvisor.com/media/attractions-splice-spp-674x446/06/e4/12/f5.jpg\n",
            "[!] Issue getting: https://media-cdn.tripadvisor.com/media/attractions-splice-spp-674x446/06/e4/12/f5.jpg\n",
            "[!] Error:: The read operation timed out\n",
            "[%] Downloading Image #1 from https://mediaim.expedia.com/localexpert/1134474/9e807756-2b1e-4114-9292-237ffd148653.jpg?impolicy=resizecrop&amp;rw=1005&amp;rh=565\n",
            "[%] File Downloaded !\n",
            "\n",
            "[%] Downloading Image #2 from https://mediaim.expedia.com/localexpert/1319454/1de1f850-fff8-448e-9df2-0140e6501bc1.jpg?impolicy=resizecrop&amp;rw=1005&amp;rh=565\n",
            "[%] File Downloaded !\n",
            "\n",
            "[%] Downloading Image #3 from https://d2r1vt6imt74lv.cloudfront.net/tour_image/141749/2q2vvii8kx3bvaiq4evm963y3d83\n",
            "[%] File Downloaded !\n",
            "\n",
            "[%] Downloading Image #4 from https://d2r1vt6imt74lv.cloudfront.net/tour_image/141749/jx8zn6ncx60yda3drcywer35gzzx\n",
            "[%] File Downloaded !\n",
            "\n",
            "[%] Downloading Image #5 from https://media-cdn.tripadvisor.com/media/attractions-splice-spp-720x480/06/e4/12/f3.jpg\n",
            "[%] File Downloaded !\n",
            "\n",
            "[%] Downloading Image #6 from https://media-cdn.tripadvisor.com/media/attractions-splice-spp-674x446/0b/3a/6c/e9.jpg\n",
            "[%] File Downloaded !\n",
            "\n",
            "[%] Downloading Image #7 from https://royalsocietypublishing.org/cms/asset/3e4696e2-9ddf-4f0d-b9a8-6af5f35f69ca/rsta20180437f01.gif\n",
            "[!] Issue getting: https://royalsocietypublishing.org/cms/asset/3e4696e2-9ddf-4f0d-b9a8-6af5f35f69ca/rsta20180437f01.gif\n",
            "[!] Error:: HTTP Error 403: Forbidden\n",
            "[%] Downloading Image #7 from http://3.bp.blogspot.com/-zo8dwOM9RzE/VKTQ7y4DCEI/AAAAAAAAADY/iS-7Aa1KpEc/s1600/Day1%2Bto%2B%2Bmadurai%2B2352.jpg\n",
            "[%] File Downloaded !\n",
            "\n",
            "[%] Downloading Image #8 from https://templetownkumbakonam.com/wp-content/uploads/2019/01/Srinivasa-Ramanujan-Kumbakonam-Tanjore-District-300x176.jpg\n",
            "[%] File Downloaded !\n",
            "\n",
            "\n",
            "\n",
            "[!!]Indexing page: 2\n",
            "\n",
            "[%] Indexed 35 Images on Page 2.\n",
            "\n",
            "===============================================\n",
            "\n",
            "[%] Downloading Image #9 from https://www.pilgrimagetour.in/blog/wp-content/uploads/2018/06/Kumbakonam-Tempal.jpg\n",
            "[%] File Downloaded !\n",
            "\n",
            "[%] Downloading Image #10 from https://i.pinimg.com/originals/08/01/e2/0801e2c8673d517f1fd77d8def7d8fb5.jpg\n",
            "[%] File Downloaded !\n",
            "\n",
            "\n",
            "\n",
            "[%] Done. Downloaded 10 images.\n"
          ]
        }
      ]
    },
    {
      "cell_type": "code",
      "source": [
        "from bing_image_downloader import downloader\n",
        "downloader.download(\"srinivasa ramanujam house\",limit=10,output_dir=\"kumbakonam\")"
      ],
      "metadata": {
        "colab": {
          "base_uri": "https://localhost:8080/"
        },
        "id": "6gM7WDDOlYrz",
        "outputId": "526c89d0-f100-430d-d55b-996adaa25158"
      },
      "execution_count": 11,
      "outputs": [
        {
          "output_type": "stream",
          "name": "stdout",
          "text": [
            "[%] Downloading Images to /content/kumbakonam/srinivasa ramanujam house\n",
            "\n",
            "\n",
            "[!!]Indexing page: 1\n",
            "\n",
            "[%] Indexed 10 Images on Page 1.\n",
            "\n",
            "===============================================\n",
            "\n",
            "[%] Downloading Image #1 from https://mathjmmc.in/cms/serv_upload/photoSRINIVASA RAMANUJAN.jpg\n",
            "[!] Issue getting: https://mathjmmc.in/cms/serv_upload/photoSRINIVASA RAMANUJAN.jpg\n",
            "[!] Error:: URL can't contain control characters. '/cms/serv_upload/photoSRINIVASA RAMANUJAN.jpg' (found at least ' ')\n",
            "[%] Downloading Image #1 from https://www.hlimg.com/images/things2do/738X538/ttd_1522997468m1.jpg\n",
            "[%] File Downloaded !\n",
            "\n",
            "[%] Downloading Image #2 from https://royalsocietypublishing.org/cms/asset/3e4696e2-9ddf-4f0d-b9a8-6af5f35f69ca/rsta20180437f01.gif\n",
            "[!] Issue getting: https://royalsocietypublishing.org/cms/asset/3e4696e2-9ddf-4f0d-b9a8-6af5f35f69ca/rsta20180437f01.gif\n",
            "[!] Error:: HTTP Error 403: Forbidden\n",
            "[%] Downloading Image #2 from https://www.chennaifirst.in/wp-content/uploads/2013/03/RamanujamCF30mar2013.jpg\n",
            "[%] File Downloaded !\n",
            "\n",
            "[%] Downloading Image #3 from http://images.indianexpress.com/2015/12/ramanujam.jpg\n",
            "[%] File Downloaded !\n",
            "\n",
            "[%] Downloading Image #4 from https://2.bp.blogspot.com/-2lnklmRAIDI/TuXQ-kGdWBI/AAAAAAAAApU/L99tGJXByvE/s1600/450px-Ramanujanhome.jpg\n",
            "[%] File Downloaded !\n",
            "\n",
            "[%] Downloading Image #5 from https://media-cdn.tripadvisor.com/media/photo-s/03/ce/f9/7c/srinivasa-ramanujan-house.jpg\n",
            "[%] File Downloaded !\n",
            "\n",
            "[%] Downloading Image #6 from https://media-cdn.tripadvisor.com/media/photo-s/0c/34/e7/58/house-entrance-with-caretaker.jpg\n",
            "[%] File Downloaded !\n",
            "\n",
            "[%] Downloading Image #7 from https://i.pinimg.com/originals/95/a9/64/95a964040b2fb4c119772069deefbb04.jpg\n",
            "[%] File Downloaded !\n",
            "\n",
            "[%] Downloading Image #8 from https://media.tacdn.com/media/attractions-splice-spp-674x446/06/e4/12/f3.jpg\n",
            "[%] File Downloaded !\n",
            "\n",
            "\n",
            "\n",
            "[!!]Indexing page: 2\n",
            "\n",
            "[%] Indexed 35 Images on Page 2.\n",
            "\n",
            "===============================================\n",
            "\n",
            "[%] Downloading Image #9 from https://www.hlimg.com/images/things2do/738X538/ttd_1522997468m2.jpg\n",
            "[%] File Downloaded !\n",
            "\n",
            "[%] Downloading Image #10 from https://media-cdn.tripadvisor.com/media/photo-s/14/3a/66/fe/srinivasa-ramanujan-house.jpg\n",
            "[%] File Downloaded !\n",
            "\n",
            "\n",
            "\n",
            "[%] Done. Downloaded 10 images.\n"
          ]
        }
      ]
    },
    {
      "cell_type": "code",
      "source": [
        "from bing_image_downloader import downloader\n",
        "downloader.download(\"Mahamaha kulam images\",limit=10,output_dir=\"kumbakonam\")"
      ],
      "metadata": {
        "colab": {
          "base_uri": "https://localhost:8080/"
        },
        "id": "lry5a1n8mBhv",
        "outputId": "7924bf67-97fc-4115-dcca-eaeb3c1f1411"
      },
      "execution_count": 12,
      "outputs": [
        {
          "output_type": "stream",
          "name": "stdout",
          "text": [
            "[%] Downloading Images to /content/kumbakonam/Mahamaha kulam images\n",
            "\n",
            "\n",
            "[!!]Indexing page: 1\n",
            "\n",
            "[%] Indexed 10 Images on Page 1.\n",
            "\n",
            "===============================================\n",
            "\n",
            "[%] Downloading Image #1 from https://indiasomeday.com/wp-content/uploads/2020/08/4772896197_70e79de332_k.jpg\n",
            "[%] File Downloaded !\n",
            "\n",
            "[%] Downloading Image #2 from https://i.ytimg.com/vi/9vLIXOwQoXo/maxresdefault.jpg\n",
            "[%] File Downloaded !\n",
            "\n",
            "[%] Downloading Image #3 from http://4.bp.blogspot.com/-BFDeMO8E860/UU206LkAjKI/AAAAAAAAC1M/KX9tD07ppAo/s1600/mahamaham-tank_5.jpg\n",
            "[%] File Downloaded !\n",
            "\n",
            "[%] Downloading Image #4 from https://i.ytimg.com/vi/KqhsOsT1Xto/maxresdefault.jpg\n",
            "[%] File Downloaded !\n",
            "\n",
            "[%] Downloading Image #5 from https://i.ytimg.com/vi/CfxueS5aAXc/maxresdefault.jpg\n",
            "[%] File Downloaded !\n",
            "\n",
            "[%] Downloading Image #6 from https://i.ytimg.com/vi/RBxb2Fe0bAc/maxres2.jpg?sqp=-oaymwEoCIAKENAF8quKqQMcGADwAQH4Ac4FgAKACooCDAgAEAEYZSBgKEQwDw==&amp;rs=AOn4CLCbl01zBo9LA4r11r-Qj20UiLFJAg\n",
            "[%] File Downloaded !\n",
            "\n",
            "[%] Downloading Image #7 from https://4.bp.blogspot.com/-s6I7PvGDGZ0/VARfb5EaxJI/AAAAAAAAASA/AfHdyOmU9Pk/s1600/india-southern-india-procession-at-kumbakonam-elephants-antique-print-1900-118061-p.jpg\n",
            "[%] File Downloaded !\n",
            "\n",
            "[%] Downloading Image #8 from http://www.travelingtoworld.com/wp-content/uploads/2015/08/temples-in-kumbakonam.jpg\n",
            "[%] File Downloaded !\n",
            "\n",
            "[%] Downloading Image #9 from https://res.cloudinary.com/dharisanam/image/upload/g_south_east,x_5,y_5,l_dharisanam_watermark/v1511896334/Comp-KV-1.jpg_1511896129426.jpg\n",
            "[%] File Downloaded !\n",
            "\n",
            "[%] Downloading Image #10 from https://i.ytimg.com/vi/cpOWd0kKtJA/hq2.jpg?sqp=-oaymwEoCOADEOgC8quKqQMcGADwAQH4Ac4FgAKACooCDAgAEAEYZSBjKFIwDw==&amp;rs=AOn4CLDv426kdjo1gFcQI8doiKHbL41NIQ\n",
            "[%] File Downloaded !\n",
            "\n",
            "\n",
            "\n",
            "[%] Done. Downloaded 10 images.\n"
          ]
        }
      ]
    },
    {
      "cell_type": "code",
      "source": [
        "from bing_image_downloader import downloader\n",
        "downloader.download(\"adi kumbeshwarar temple\",limit=10,output_dir=\"kumbakonam\")"
      ],
      "metadata": {
        "colab": {
          "base_uri": "https://localhost:8080/"
        },
        "outputId": "13e81e56-ca9d-4906-d7db-90c3776a5c37",
        "id": "qz0c_ucr6OOz"
      },
      "execution_count": 20,
      "outputs": [
        {
          "output_type": "stream",
          "name": "stdout",
          "text": [
            "[%] Downloading Images to /content/kumbakonam/adi kumbeshwarar temple\n",
            "\n",
            "\n",
            "[!!]Indexing page: 1\n",
            "\n",
            "[%] Indexed 10 Images on Page 1.\n",
            "\n",
            "===============================================\n",
            "\n",
            "[%] Downloading Image #1 from https://www.ishtadevata.com/data/uploads/2016/09/Adi-Kumbeshwarar-1.jpg\n",
            "[%] File Downloaded !\n",
            "\n",
            "[%] Downloading Image #2 from https://2.bp.blogspot.com/-lpsfQdBnPQ4/VPn8q6Cjm2I/AAAAAAAAKgQ/jVygjy4mPrk/s1600/Adi%2BKumbeswarar%2B5.jpg\n",
            "[%] File Downloaded !\n",
            "\n",
            "[%] Downloading Image #3 from https://www.astroved.com/astropedia/assets/images/temples/Adi-Kumbeshwarar-Temple.jpg\n",
            "[%] File Downloaded !\n",
            "\n",
            "[%] Downloading Image #4 from https://templeknowledge.com/wp-content/uploads/2023/04/Adi-Kumbeshwara-Temple.jpg\n",
            "[%] File Downloaded !\n",
            "\n",
            "[%] Downloading Image #5 from http://gosthala.com/wp-content/uploads/2016/12/PHIT12-Kumbakonam_Kumbeshwara_Temple_68680146241.jpg\n",
            "[%] File Downloaded !\n",
            "\n",
            "[%] Downloading Image #6 from https://gosthala.com/wp-content/uploads/2016/12/PHIT12-Kumbakonam_Kumbeshwara_Temple_6868014624.jpg\n",
            "[%] File Downloaded !\n",
            "\n",
            "[%] Downloading Image #7 from https://ak.jogurucdn.com/media/image/p25/place-2014-08-27-13-Adikumbeshwarartemple5da070ded6bb8735e3d9939a5d1212a3.jpg\n",
            "[%] File Downloaded !\n",
            "\n",
            "[%] Downloading Image #8 from http://www.trawell.in/admin/images/upload/868291212Kumbakonam_Adi_Kumbeswarar_Temple_Main.jpg\n",
            "[%] File Downloaded !\n",
            "\n",
            "[%] Downloading Image #9 from https://tripnetra.com/blog/wp-content/uploads/2018/03/adi-Kumbeswarar-Temple.jpg\n",
            "[%] File Downloaded !\n",
            "\n",
            "[%] Downloading Image #10 from https://www.indian-heritage.org/states/tn/kumbak/kmbswrmb.jpg\n",
            "[%] File Downloaded !\n",
            "\n",
            "\n",
            "\n",
            "[%] Done. Downloaded 10 images.\n"
          ]
        }
      ]
    },
    {
      "cell_type": "code",
      "source": [
        "from bing_image_downloader import downloader\n",
        "downloader.download(\"Airavatheeswarar temple\",limit=10,output_dir=\"kumbakonam\")"
      ],
      "metadata": {
        "colab": {
          "base_uri": "https://localhost:8080/"
        },
        "outputId": "5614346c-85b3-4a65-ffca-60dea868ae92",
        "id": "v_Pu3p428GfX"
      },
      "execution_count": 19,
      "outputs": [
        {
          "output_type": "stream",
          "name": "stdout",
          "text": [
            "[%] Downloading Images to /content/kumbakonam/Airavatheeswarar temple\n",
            "\n",
            "\n",
            "[!!]Indexing page: 1\n",
            "\n",
            "[%] No more images are available\n",
            "\n",
            "\n",
            "[%] Done. Downloaded 0 images.\n"
          ]
        }
      ]
    },
    {
      "cell_type": "code",
      "source": [
        "from bing_image_downloader import downloader\n",
        "downloader.download(\"garuda sevai kumbakonam\",limit=10,output_dir=\"kumbakonam\")"
      ],
      "metadata": {
        "colab": {
          "base_uri": "https://localhost:8080/"
        },
        "outputId": "85c029e4-3602-4f6c-c947-8a7e1640957c",
        "id": "SRmY79kp9P4Q"
      },
      "execution_count": 18,
      "outputs": [
        {
          "output_type": "stream",
          "name": "stdout",
          "text": [
            "[%] Downloading Images to /content/kumbakonam/garuda sevai kumbakonam\n",
            "\n",
            "\n",
            "[!!]Indexing page: 1\n",
            "\n",
            "[%] Indexed 10 Images on Page 1.\n",
            "\n",
            "===============================================\n",
            "\n",
            "[%] Downloading Image #1 from https://www.iskconkolkata.com/wp-content/uploads/2017/04/Garuda-Sevai-Kumbakonam.jpg\n",
            "[%] File Downloaded !\n",
            "\n",
            "[%] Downloading Image #2 from http://anudinam.org/wp-content/uploads/2013/05/14-Garuda-Sevai-Kumbakonam_7.jpg\n",
            "[%] File Downloaded !\n",
            "\n",
            "[%] Downloading Image #3 from https://i.ytimg.com/vi/qqVmRpqZJR0/maxresdefault.jpg\n",
            "[%] File Downloaded !\n",
            "\n",
            "[%] Downloading Image #4 from https://live.staticflickr.com/65535/32725760137_37106c46d7_b.jpg\n",
            "[%] File Downloaded !\n",
            "\n",
            "[%] Downloading Image #5 from https://live.staticflickr.com/65535/47668487151_b12ce2be00.jpg\n",
            "[%] File Downloaded !\n",
            "\n",
            "[%] Downloading Image #6 from https://i.ytimg.com/vi/HTZGj4fdWQA/maxresdefault.jpg\n",
            "[!] Issue getting: https://i.ytimg.com/vi/HTZGj4fdWQA/maxresdefault.jpg\n",
            "[!] Error:: HTTP Error 404: Not Found\n",
            "[%] Downloading Image #6 from https://i.ytimg.com/vi/MSsy4P2_INk/maxresdefault.jpg\n",
            "[%] File Downloaded !\n",
            "\n",
            "[%] Downloading Image #7 from https://www.divyadesam.com/photofeature/sri-garuda-panchami-2021/kumbakonam-sri-rajagopalaswamy-temple-small.jpg\n",
            "[%] File Downloaded !\n",
            "\n",
            "[%] Downloading Image #8 from https://i.ytimg.com/vi/E8MGa2oNEn8/maxres2.jpg?sqp=-oaymwEoCIAKENAF8quKqQMcGADwAQH4Ac4FgAKACooCDAgAEAEYZSBjKFEwDw==&amp;rs=AOn4CLCu_Y2W3Tdmygptd8B06kVJ9Itc6g\n",
            "[%] File Downloaded !\n",
            "\n",
            "[%] Downloading Image #9 from https://i.ytimg.com/vi/_oBD76pf9PM/maxresdefault.jpg\n",
            "[%] File Downloaded !\n",
            "\n",
            "\n",
            "\n",
            "[!!]Indexing page: 2\n",
            "\n",
            "[%] Indexed 35 Images on Page 2.\n",
            "\n",
            "===============================================\n",
            "\n",
            "[%] Downloading Image #10 from https://i.ytimg.com/vi/H82oseT0fwk/maxres2.jpg?sqp=-oaymwEoCIAKENAF8quKqQMcGADwAQH4Ac4FgAKACooCDAgAEAEYfyAfKDcwDw==&amp;rs=AOn4CLC2VKWclXIhoo6edNc-9zOnoNTwsA\n",
            "[%] File Downloaded !\n",
            "\n",
            "\n",
            "\n",
            "[%] Done. Downloaded 10 images.\n"
          ]
        }
      ]
    },
    {
      "cell_type": "code",
      "source": [
        "from bing_image_downloader import downloader\n",
        "downloader.download(\"Kumbakonam handloom silk saree\",limit=10,output_dir=\"kumbakonam\")"
      ],
      "metadata": {
        "colab": {
          "base_uri": "https://localhost:8080/"
        },
        "outputId": "0176ff17-f9a4-4f19-9a79-a827e59b76db",
        "id": "aC-yJo4-9rVa"
      },
      "execution_count": 17,
      "outputs": [
        {
          "output_type": "stream",
          "name": "stdout",
          "text": [
            "[%] Downloading Images to /content/kumbakonam/Kumbakonam handloom silk saree\n",
            "\n",
            "\n",
            "[!!]Indexing page: 1\n",
            "\n",
            "[%] Indexed 10 Images on Page 1.\n",
            "\n",
            "===============================================\n",
            "\n",
            "[%] Downloading Image #1 from https://5.imimg.com/data5/ANDROID/Default/2021/5/YB/GF/VM/100273819/img-20210511-wa0095-jpg-500x500.jpg\n",
            "[%] File Downloaded !\n",
            "\n",
            "[%] Downloading Image #2 from https://2.bp.blogspot.com/-VrVoYngsduY/WiT4EJj6RoI/AAAAAAAByZ0/hTderN1I7DIry_Ayjyn1OvCsXnuEs3TYQCLcBGAs/s1600/67502859771.png\n",
            "[%] File Downloaded !\n",
            "\n",
            "[%] Downloading Image #3 from https://5.imimg.com/data5/SELLER/Default/2023/3/ED/OS/UP/69528064/capture-1000x1000.PNG\n",
            "[%] File Downloaded !\n",
            "\n",
            "[%] Downloading Image #4 from https://5.imimg.com/data5/ANDROID/Default/2023/6/314371235/AA/ME/QJ/24220520/product-jpeg-1000x1000.jpeg\n",
            "[%] File Downloaded !\n",
            "\n",
            "[%] Downloading Image #5 from https://www.sajasajo.com/uploads/RMSR710_11.jpg\n",
            "[%] File Downloaded !\n",
            "\n",
            "[%] Downloading Image #6 from http://images.indialisted.com/nlarge/gift_or_partyt_wear_silk_sares_with_kumbakonam-tirumbuvanam_tradition_handloom_sarees_2015739.jpg\n",
            "[%] File Downloaded !\n",
            "\n",
            "[%] Downloading Image #7 from https://cdn.sareeka.com/image/data2020/printed-handloom-silk-trendy-saree-in-green-160581.jpg\n",
            "[%] File Downloaded !\n",
            "\n",
            "[%] Downloading Image #8 from https://medias.utsavfashion.com/media/catalog/product/cache/1/image/1000x/040ec09b1e35df139433887a97daa66f/g/a/gadwal-pure-silk-handloom-saree-in-red-v1-smua137.jpg\n",
            "[Error]Invalid image, not saving https://medias.utsavfashion.com/media/catalog/product/cache/1/image/1000x/040ec09b1e35df139433887a97daa66f/g/a/gadwal-pure-silk-handloom-saree-in-red-v1-smua137.jpg\n",
            "\n",
            "[!] Issue getting: https://medias.utsavfashion.com/media/catalog/product/cache/1/image/1000x/040ec09b1e35df139433887a97daa66f/g/a/gadwal-pure-silk-handloom-saree-in-red-v1-smua137.jpg\n",
            "[!] Error:: Invalid image, not saving https://medias.utsavfashion.com/media/catalog/product/cache/1/image/1000x/040ec09b1e35df139433887a97daa66f/g/a/gadwal-pure-silk-handloom-saree-in-red-v1-smua137.jpg\n",
            "\n",
            "[%] Downloading Image #8 from https://5.imimg.com/data5/SELLER/Default/2023/4/302526793/SR/FR/XD/160478374/kanchipuram-handloom-silk-sarees-1000x1000.jpeg\n",
            "[%] File Downloaded !\n",
            "\n",
            "[%] Downloading Image #9 from https://cdn.shopify.com/s/files/1/2267/3599/products/18K_5976-khadi-cotton-saree_720x@2x.jpg?v=1613460233\n",
            "[%] File Downloaded !\n",
            "\n",
            "\n",
            "\n",
            "[!!]Indexing page: 2\n",
            "\n",
            "[%] Indexed 35 Images on Page 2.\n",
            "\n",
            "===============================================\n",
            "\n",
            "[%] Downloading Image #10 from https://2.bp.blogspot.com/-To90JPW4gyo/WiT3-xySeXI/AAAAAAAByZA/XbTfP96ulQE2rAKTYfzck-fFHocyZEEdwCLcBGAs/s1600/16208058922.png\n",
            "[%] File Downloaded !\n",
            "\n",
            "\n",
            "\n",
            "[%] Done. Downloaded 10 images.\n"
          ]
        }
      ]
    },
    {
      "cell_type": "code",
      "source": [
        "from bing_image_downloader import downloader\n",
        "downloader.download(\"kumbakonam school fire accident memorial park\",limit=10,output_dir=\"kumbakonam\")"
      ],
      "metadata": {
        "colab": {
          "base_uri": "https://localhost:8080/"
        },
        "outputId": "98a95a20-e1dc-4dc5-a5cc-c6a2f44a2f9e",
        "id": "dMJWKayy-A6R"
      },
      "execution_count": 16,
      "outputs": [
        {
          "output_type": "stream",
          "name": "stdout",
          "text": [
            "[%] Downloading Images to /content/kumbakonam/kumbakonam school fire accident memorial park\n",
            "\n",
            "\n",
            "[!!]Indexing page: 1\n",
            "\n",
            "[%] Indexed 10 Images on Page 1.\n",
            "\n",
            "===============================================\n",
            "\n",
            "[%] Downloading Image #1 from https://cdn.dnaindia.com/sites/default/files/styles/full/public/2014/07/30/255104-255062-school-fire-rep-rna.jpg\n",
            "[%] File Downloaded !\n",
            "\n",
            "[%] Downloading Image #2 from https://s3.ap-southeast-1.amazonaws.com/images.deccanchronicle.com/dc-Cover-rndrs0raob66nshq8time8vbd5-20180428041446.Medi.jpeg\n",
            "[%] File Downloaded !\n",
            "\n",
            "[%] Downloading Image #3 from https://images.hindustantimes.com/rf/image_size_800x600/HT/p1/2014/07/30/Incoming/Pictures/1246301_Wallpaper2.jpg\n",
            "[%] File Downloaded !\n",
            "\n",
            "[%] Downloading Image #4 from https://i.ndtvimg.com/video/images/vod/medium/2014-07/big_332077_1406698749.jpg\n",
            "[%] File Downloaded !\n",
            "\n",
            "[%] Downloading Image #5 from https://www.oneindia.com/img/2014/07/30-kumbakonam-school-fire-case2.jpg\n",
            "[%] File Downloaded !\n",
            "\n",
            "[%] Downloading Image #6 from http://www.beyondcarlton.org/wp-content/uploads/2019/02/Kumbakonam-fire.jpg\n",
            "[!] Issue getting: http://www.beyondcarlton.org/wp-content/uploads/2019/02/Kumbakonam-fire.jpg\n",
            "[!] Error:: Remote end closed connection without response\n",
            "[%] Downloading Image #6 from https://www.livemint.com/rf/Image-621x414/LiveMint/Period1/2014/07/31/Photos/kumbakonamfire--621x414.jpg\n",
            "[%] File Downloaded !\n",
            "\n",
            "[%] Downloading Image #7 from https://alchetron.com/cdn/2004-kumbakonam-school-fire-8b03dd8c-d5fc-4b06-a6df-ae9d1ea2e39-resize-750.jpg\n",
            "[%] File Downloaded !\n",
            "\n",
            "[%] Downloading Image #8 from https://static.toiimg.com/thumb/msid-77012542,width-1070,height-580,imgsize-214668,resizemode-75,overlay-toi_sw,pt-32,y_pad-40/photo.jpg\n",
            "[%] File Downloaded !\n",
            "\n",
            "[%] Downloading Image #9 from https://smedia2.intoday.in/indiatoday/images/stories/2014July/kumbakonam-2_650_073014115053.jpg\n",
            "[%] File Downloaded !\n",
            "\n",
            "\n",
            "\n",
            "[!!]Indexing page: 2\n",
            "\n",
            "[%] Indexed 35 Images on Page 2.\n",
            "\n",
            "===============================================\n",
            "\n",
            "[%] Downloading Image #10 from https://thelogicalindian.com/wp-content/uploads/2017/08/MHC_web-750x500.jpg\n",
            "[%] File Downloaded !\n",
            "\n",
            "\n",
            "\n",
            "[%] Done. Downloaded 10 images.\n"
          ]
        }
      ]
    },
    {
      "cell_type": "code",
      "source": [
        "from bing_image_downloader import downloader\n",
        "downloader.download(\"potraamarai kulam\",limit=10,output_dir=\"kumbakonam\")"
      ],
      "metadata": {
        "colab": {
          "base_uri": "https://localhost:8080/"
        },
        "outputId": "a3158f83-9921-4bc5-a720-4e244fd26bb9",
        "id": "QdUyVDcO_Hyq"
      },
      "execution_count": 15,
      "outputs": [
        {
          "output_type": "stream",
          "name": "stdout",
          "text": [
            "[%] Downloading Images to /content/kumbakonam/potraamarai kulam\n",
            "\n",
            "\n",
            "[!!]Indexing page: 1\n",
            "\n",
            "[%] Indexed 10 Images on Page 1.\n",
            "\n",
            "===============================================\n",
            "\n",
            "[%] Downloading Image #1 from https://live.staticflickr.com/1349/736251161_f44da3b8ab_b.jpg\n",
            "[%] File Downloaded !\n",
            "\n",
            "[%] Downloading Image #2 from https://1.bp.blogspot.com/-1T4P8tyMNhU/WOwCRQsPi3I/AAAAAAAAP1I/7gykIz-pvlgIZzbL25DpSWd7WgRJ3zE2ACEw/s640/Potraamarai%2Bkulam%2BKumbakonam.jpg\n",
            "[%] File Downloaded !\n",
            "\n",
            "[%] Downloading Image #3 from https://i.ytimg.com/vi/iJRyQsNvkCg/maxresdefault.jpg\n",
            "[%] File Downloaded !\n",
            "\n",
            "[%] Downloading Image #4 from https://2.bp.blogspot.com/_fOQL6emi_xo/TQMPzPog3MI/AAAAAAAAAJM/ypM-Ko94TvI/S1600-R/madurai%2Bmeenakshi%2Btemple%2B-%2BPotramarai%2BKulam.jpg\n",
            "[%] File Downloaded !\n",
            "\n",
            "[%] Downloading Image #5 from https://3.bp.blogspot.com/-86tO8FGUpfA/WOwCQCwO1kI/AAAAAAAAP00/yolRumqW3WcE_ylU2s7erkrFlBYrRq3CgCLcB/w1200-h630-p-k-no-nu/Mahamaham%2BFestival%2BKumbakonam%2B2016.jpg\n",
            "[%] File Downloaded !\n",
            "\n",
            "[%] Downloading Image #6 from https://i.ytimg.com/vi/rlonAvxSwWg/maxresdefault.jpg\n",
            "[%] File Downloaded !\n",
            "\n",
            "[%] Downloading Image #7 from https://i.ytimg.com/vi/g3GZiAQJIGg/maxresdefault.jpg\n",
            "[%] File Downloaded !\n",
            "\n",
            "[%] Downloading Image #8 from https://sites.google.com/site/drsanthoshc/tanjoretemple.jpg\n",
            "[Error]Invalid image, not saving https://sites.google.com/site/drsanthoshc/tanjoretemple.jpg\n",
            "\n",
            "[!] Issue getting: https://sites.google.com/site/drsanthoshc/tanjoretemple.jpg\n",
            "[!] Error:: Invalid image, not saving https://sites.google.com/site/drsanthoshc/tanjoretemple.jpg\n",
            "\n",
            "[%] Downloading Image #8 from https://photos.wikimapia.org/p/00/01/17/67/18_big.jpg\n",
            "[%] File Downloaded !\n",
            "\n",
            "[%] Downloading Image #9 from https://sites.google.com/site/drsanthoshc/Maduraitank-large.jpg\n",
            "[Error]Invalid image, not saving https://sites.google.com/site/drsanthoshc/Maduraitank-large.jpg\n",
            "\n",
            "[!] Issue getting: https://sites.google.com/site/drsanthoshc/Maduraitank-large.jpg\n",
            "[!] Error:: Invalid image, not saving https://sites.google.com/site/drsanthoshc/Maduraitank-large.jpg\n",
            "\n",
            "\n",
            "\n",
            "[!!]Indexing page: 2\n",
            "\n",
            "[%] Indexed 35 Images on Page 2.\n",
            "\n",
            "===============================================\n",
            "\n",
            "[%] Downloading Image #9 from http://www.indiamike.com/files/images/93/29/11/pottamarai-kulam.jpg\n",
            "[%] File Downloaded !\n",
            "\n",
            "[%] Downloading Image #10 from https://gumlet.assettype.com/vikatan/2020-06/d225b70f-b753-442b-b67a-0d95384a6236/nirampiya_paappamadai_kulam.jpg?auto=format%2Ccompress&amp;w=1200\n",
            "[%] File Downloaded !\n",
            "\n",
            "\n",
            "\n",
            "[%] Done. Downloaded 10 images.\n"
          ]
        }
      ]
    },
    {
      "cell_type": "code",
      "source": [
        "from bing_image_downloader import downloader\n",
        "downloader.download(\"MGR childhood school kumbakonam\",limit=10,output_dir=\"kumbakonam\")"
      ],
      "metadata": {
        "colab": {
          "base_uri": "https://localhost:8080/"
        },
        "outputId": "abb43347-0d8f-4c8e-a705-e171fdc23cda",
        "id": "o_e40d26_w4W"
      },
      "execution_count": 14,
      "outputs": [
        {
          "output_type": "stream",
          "name": "stdout",
          "text": [
            "[%] Downloading Images to /content/kumbakonam/MGR childhood school kumbakonam\n",
            "\n",
            "\n",
            "[!!]Indexing page: 1\n",
            "\n",
            "[%] Indexed 10 Images on Page 1.\n",
            "\n",
            "===============================================\n",
            "\n",
            "[%] Downloading Image #1 from https://i.ytimg.com/vi/utmILGAd8JA/maxresdefault.jpg\n",
            "[%] File Downloaded !\n",
            "\n",
            "[%] Downloading Image #2 from https://i.ytimg.com/vi/CzZpxL6OaIU/hqdefault.jpg\n",
            "[%] File Downloaded !\n",
            "\n",
            "[%] Downloading Image #3 from http://3.bp.blogspot.com/-tHMQaxBztuc/Tqlif0_jCrI/AAAAAAAABxw/ysa2jcegjc8/s400/mgr-joined-drama-troupe-kumbakonam.jpg\n",
            "[%] File Downloaded !\n",
            "\n",
            "[%] Downloading Image #4 from https://karthividhyalayacbse.com/wp-content/uploads/2019/09/IMG_5879.jpg\n",
            "[%] File Downloaded !\n",
            "\n",
            "[%] Downloading Image #5 from https://s01.sgp1.digitaloceanspaces.com/large/826902-49504-yurjkeodzp-1484595613.jpg\n",
            "[%] File Downloaded !\n",
            "\n",
            "[%] Downloading Image #6 from https://www.dailypioneer.com/uploads/2014/story/images/big/56348_Kumbakonam_school_tragedy.jpg\n",
            "[%] File Downloaded !\n",
            "\n",
            "[%] Downloading Image #7 from https://karthividhyalayacbse.com/wp-content/uploads/2019/09/IMG_9384.jpg\n",
            "[%] File Downloaded !\n",
            "\n",
            "[%] Downloading Image #8 from https://bl-i.thgim.com/public/migration_catalog/article18118620.ece/alternates/LANDSCAPE_1200/kumbakonam.jpg\n",
            "[%] File Downloaded !\n",
            "\n",
            "[%] Downloading Image #9 from https://karthividhyalaya.com/wp-content/uploads/2021/04/Capture.jpg\n",
            "[%] File Downloaded !\n",
            "\n",
            "[%] Downloading Image #10 from https://live.staticflickr.com/3164/2678957561_c9c7f28134.jpg\n",
            "[%] File Downloaded !\n",
            "\n",
            "\n",
            "\n",
            "[%] Done. Downloaded 10 images.\n"
          ]
        }
      ]
    },
    {
      "cell_type": "code",
      "source": [
        "from bing_image_downloader import downloader\n",
        "downloader.download(\"Rajagopalaswamy Temple Mannargudi\",limit=10,output_dir=\"Mannargudi\")"
      ],
      "metadata": {
        "colab": {
          "base_uri": "https://localhost:8080/"
        },
        "outputId": "d8740724-4bbf-4e34-934c-b642e5d90f4f",
        "id": "_BdUTmQzAzYw"
      },
      "execution_count": 13,
      "outputs": [
        {
          "output_type": "stream",
          "name": "stdout",
          "text": [
            "[%] Downloading Images to /content/kumbakonam/mumoorthi vinayagar temple kumbakonam\n",
            "\n",
            "\n",
            "[!!]Indexing page: 1\n",
            "\n",
            "[%] Indexed 10 Images on Page 1.\n",
            "\n",
            "===============================================\n",
            "\n",
            "[%] Downloading Image #1 from https://3.bp.blogspot.com/-K8s0l3pLnKk/XA_gYBrcN7I/AAAAAAABUZQ/Wbhro3QyVK8IBzNXxM-XMrXfvtJzwrY9wCLcBGAs/s1600/IMG_0367.JPG\n",
            "[%] File Downloaded !\n",
            "\n",
            "[%] Downloading Image #2 from http://1.bp.blogspot.com/-lSY31VyolO0/VoV0DgSeGuI/AAAAAAAAXGo/wfWUjHLND1Q/s1600/T210_Sri-Baanapureeshwarar_temple2.jpg\n",
            "[%] File Downloaded !\n",
            "\n",
            "[%] Downloading Image #3 from https://1.bp.blogspot.com/-_VgdadvGZB0/XTVwLlav-sI/AAAAAAAABcs/uoXHP3hsh_IKSUnRMvv22rDODJxWlMrkwCLcBGAs/s1600/IMG_20190722_133836.jpg\n",
            "[%] File Downloaded !\n",
            "\n",
            "[%] Downloading Image #4 from https://tripnetra.com/blog/wp-content/uploads/2018/04/Mutharamman-Temple-525x543.jpg\n",
            "[%] File Downloaded !\n",
            "\n",
            "[%] Downloading Image #5 from https://www.esamskriti.com/photograph/3_5731.jpg?202171235555\n",
            "[%] File Downloaded !\n",
            "\n",
            "[%] Downloading Image #6 from https://templeconnect.com/wp-content/uploads/2022/03/Suriyanar-Kovil-Kumbakonam-Tamil-Nadu-Navagraha.png\n",
            "[%] File Downloaded !\n",
            "\n",
            "[%] Downloading Image #7 from https://lh5.googleusercontent.com/p/AF1QipOIsA5MGnzPm5LXpojSbQa1b2Kcs0VF6-MgHDGk=w1080-k-no\n",
            "[%] File Downloaded !\n",
            "\n",
            "[%] Downloading Image #8 from https://www.holidify.com/images/cmsuploads/compressed/shutterstock_1122267461_20200224115001.jpg\n",
            "[%] File Downloaded !\n",
            "\n",
            "[%] Downloading Image #9 from http://casualwalker.com/wp-content/uploads/2021/07/Valividu_Murugan_temple_Ramanathapuram_00001.jpg\n",
            "[%] File Downloaded !\n",
            "\n",
            "[%] Downloading Image #10 from https://1.bp.blogspot.com/-KPZWvUrjeJY/YImO8aRyEOI/AAAAAAAAGXE/ULEC88azig8Zao0QzzJKdQ21uInaBucJACLcBGAsYHQ/s1167/Mundhi%2BVinayagar%2BTemple%2BPuliakulam%2BLord%2BGanesha%2BTemple%2BCoimbatore.png\n",
            "[%] File Downloaded !\n",
            "\n",
            "\n",
            "\n",
            "[%] Done. Downloaded 10 images.\n"
          ]
        }
      ]
    },
    {
      "cell_type": "code",
      "source": [
        "mkdir Mannargudi"
      ],
      "metadata": {
        "id": "AaaijpIAi0wX"
      },
      "execution_count": 21,
      "outputs": []
    },
    {
      "cell_type": "code",
      "source": [
        "from bing_image_downloader import downloader\n",
        "downloader.download(\"Rajagopalaswamy Temple Mannargudi\",limit=10,output_dir=\"Mannargudi\")"
      ],
      "metadata": {
        "colab": {
          "base_uri": "https://localhost:8080/"
        },
        "outputId": "a8214cde-a92f-459e-957a-35a3f034b5db",
        "id": "RGxj_pN0jFjm"
      },
      "execution_count": 22,
      "outputs": [
        {
          "output_type": "stream",
          "name": "stdout",
          "text": [
            "[%] Downloading Images to /content/Mannargudi/Rajagopalaswamy Temple Mannargudi\n",
            "\n",
            "\n",
            "[!!]Indexing page: 1\n",
            "\n",
            "[%] Indexed 10 Images on Page 1.\n",
            "\n",
            "===============================================\n",
            "\n",
            "[%] Downloading Image #1 from http://1.bp.blogspot.com/_Mno7K3abvsY/TVG0AEtyAQI/AAAAAAAABoU/6cXh_z1GWvA/s1600/DSC01483.JPG\n",
            "[%] File Downloaded !\n",
            "\n",
            "[%] Downloading Image #2 from https://alchetron.com/cdn/rajagopalaswamy-temple-mannargudi-b6a34cbd-d500-4573-8046-779f197c511-resize-750.jpeg\n",
            "[%] File Downloaded !\n",
            "\n",
            "[%] Downloading Image #3 from https://1.bp.blogspot.com/-31Zid2fXO2s/WQMES77EJBI/AAAAAAAA154/3JEShw-0fSQueZcNpamx72Mdc7AUc8C5wCEw/s1600/SAM_2856.JPG\n",
            "[%] File Downloaded !\n",
            "\n",
            "[%] Downloading Image #4 from http://photos.wikimapia.org/p/00/01/13/31/51_big.jpg\n",
            "[%] File Downloaded !\n",
            "\n",
            "[%] Downloading Image #5 from https://cultureandheritage.org/wp-content/uploads/2022/09/1-8.jpg\n",
            "[Error]Invalid image, not saving https://cultureandheritage.org/wp-content/uploads/2022/09/1-8.jpg\n",
            "\n",
            "[!] Issue getting: https://cultureandheritage.org/wp-content/uploads/2022/09/1-8.jpg\n",
            "[!] Error:: Invalid image, not saving https://cultureandheritage.org/wp-content/uploads/2022/09/1-8.jpg\n",
            "\n",
            "[%] Downloading Image #5 from http://4.bp.blogspot.com/-4-mk8BxIZ8I/URKPnLsTNvI/AAAAAAAAAts/Sed916dtTR0/s1600/IMG_8830-001.jpg\n",
            "[%] File Downloaded !\n",
            "\n",
            "[%] Downloading Image #6 from https://2.bp.blogspot.com/-EBimQ9StNq0/WQMD_HUGRxI/AAAAAAAA12k/gvrYbvJGFqE5NP-mncjxIba_52GvwcrdACEw/s1600/DSC01479.JPG\n",
            "[%] File Downloaded !\n",
            "\n",
            "[%] Downloading Image #7 from https://live.staticflickr.com/122/279609361_a3533a8d3b_b.jpg\n",
            "[%] File Downloaded !\n",
            "\n",
            "[%] Downloading Image #8 from https://www.trawell.in/admin/images/upload/868291554Kumbakonam_Mannargudi_Main.jpg\n",
            "[%] File Downloaded !\n",
            "\n",
            "[%] Downloading Image #9 from https://tripnetra.com/blog/wp-content/uploads/2018/04/Rajagopalaswamy-Temple.jpg\n",
            "[%] File Downloaded !\n",
            "\n",
            "\n",
            "\n",
            "[!!]Indexing page: 2\n",
            "\n",
            "[%] No more images are available\n",
            "\n",
            "\n",
            "[%] Done. Downloaded 9 images.\n"
          ]
        }
      ]
    }
  ]
}